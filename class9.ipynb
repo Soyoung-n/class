{
  "nbformat": 4,
  "nbformat_minor": 0,
  "metadata": {
    "colab": {
      "name": "class9.ipynb",
      "provenance": [],
      "collapsed_sections": [],
      "authorship_tag": "ABX9TyO3EaAecT4F1QCVgdOlaIkF",
      "include_colab_link": true
    },
    "kernelspec": {
      "name": "python3",
      "display_name": "Python 3"
    },
    "language_info": {
      "name": "python"
    }
  },
  "cells": [
    {
      "cell_type": "markdown",
      "metadata": {
        "id": "view-in-github",
        "colab_type": "text"
      },
      "source": [
        "<a href=\"https://colab.research.google.com/github/Soyoung-n/prac_class/blob/main/class9.ipynb\" target=\"_parent\"><img src=\"https://colab.research.google.com/assets/colab-badge.svg\" alt=\"Open In Colab\"/></a>"
      ]
    },
    {
      "cell_type": "markdown",
      "metadata": {
        "id": "Sm8lCB0rB5MW"
      },
      "source": [
        "Predicting house prices"
      ]
    },
    {
      "cell_type": "markdown",
      "metadata": {
        "id": "C3xOJhzHCVbv"
      },
      "source": [
        "분석 목적 : 1970년대 중반 보스턴 교외의 집값의 중위값 예측\n",
        "\n",
        "특이사항 : few data points/ each feature in the input data has a different scale"
      ]
    },
    {
      "cell_type": "markdown",
      "metadata": {
        "id": "IjhWHzfNDGxN"
      },
      "source": [
        "1. Load the data"
      ]
    },
    {
      "cell_type": "code",
      "metadata": {
        "colab": {
          "base_uri": "https://localhost:8080/"
        },
        "id": "NlFBU8NBB20o",
        "outputId": "3d22fa74-05be-4f7a-86bd-f98b0db612f7"
      },
      "source": [
        "from tensorflow.keras.datasets import boston_housing\n",
        "(train_data, train_targets), (test_data, test_targets)= boston_housing.load_data()"
      ],
      "execution_count": 1,
      "outputs": [
        {
          "output_type": "stream",
          "text": [
            "Downloading data from https://storage.googleapis.com/tensorflow/tf-keras-datasets/boston_housing.npz\n",
            "57344/57026 [==============================] - 0s 0us/step\n"
          ],
          "name": "stdout"
        }
      ]
    },
    {
      "cell_type": "code",
      "metadata": {
        "colab": {
          "base_uri": "https://localhost:8080/"
        },
        "id": "Emlj0Gz-CM2r",
        "outputId": "8820d708-8b51-4002-c96b-8cf37f9c75ae"
      },
      "source": [
        "train_data.shape"
      ],
      "execution_count": 2,
      "outputs": [
        {
          "output_type": "execute_result",
          "data": {
            "text/plain": [
              "(404, 13)"
            ]
          },
          "metadata": {
            "tags": []
          },
          "execution_count": 2
        }
      ]
    },
    {
      "cell_type": "code",
      "metadata": {
        "colab": {
          "base_uri": "https://localhost:8080/"
        },
        "id": "JVLw5TSDCxMH",
        "outputId": "c6b22cd2-bf57-4dd4-c0ac-5f4f592ecb60"
      },
      "source": [
        "test_data.shape"
      ],
      "execution_count": 3,
      "outputs": [
        {
          "output_type": "execute_result",
          "data": {
            "text/plain": [
              "(102, 13)"
            ]
          },
          "metadata": {
            "tags": []
          },
          "execution_count": 3
        }
      ]
    },
    {
      "cell_type": "markdown",
      "metadata": {
        "id": "D6bYtVJhDFi9"
      },
      "source": [
        "2. Prepare the data"
      ]
    },
    {
      "cell_type": "markdown",
      "metadata": {
        "id": "5HoaGhsEDQOB"
      },
      "source": [
        "widly different ranges -> makes nn learning more difficult\n",
        "\n",
        "A widespread practice to deal with these problems is to do feautre-wise normalization\n",
        "\n",
        ": subtract the mean of the feature and divide by the s.d"
      ]
    },
    {
      "cell_type": "code",
      "metadata": {
        "id": "MSQPA0RJDM07"
      },
      "source": [
        "mean= train_data.mean(axis=0)\n",
        "std= train_data.std(axis=0)\n",
        "\n",
        "train_data -= mean\n",
        "train_data /= std\n",
        "\n",
        "test_data -= mean\n",
        "test_data /= std"
      ],
      "execution_count": 23,
      "outputs": []
    },
    {
      "cell_type": "markdown",
      "metadata": {
        "id": "d_8R8eT2EHoQ"
      },
      "source": [
        "3. Build network"
      ]
    },
    {
      "cell_type": "markdown",
      "metadata": {
        "id": "eQvBSRioEZ7t"
      },
      "source": [
        "The less training data you have, the worse overfitting will be, and using a small network is one way to mitigate overfitting"
      ]
    },
    {
      "cell_type": "code",
      "metadata": {
        "id": "ega2HnEGEKIY"
      },
      "source": [
        "from tensorflow.keras import models\n",
        "from tensorflow.keras import layers\n",
        "\n",
        "def build_model():\n",
        "  model= models.Sequential()\n",
        "  model.add(layers.Dense(64, activation='relu', \n",
        "                         input_shape= (train_data.shape[1],)))\n",
        "  model.add(layers.Dense(64, activation='relu'))\n",
        "  model.add(layers.Dense(1))\n",
        "  model.compile(optimizer='rmsprop', loss='mse', metrics=['mae'])\n",
        "  return model"
      ],
      "execution_count": 27,
      "outputs": []
    },
    {
      "cell_type": "code",
      "metadata": {
        "colab": {
          "base_uri": "https://localhost:8080/"
        },
        "id": "B1w4HxXxG14r",
        "outputId": "cb54709b-7e68-4804-c39e-b412ae382d5c"
      },
      "source": [
        "import numpy as np\n",
        "\n",
        "k= 4\n",
        "num_val_samples= len(train_data)// k\n",
        "num_epochs= 100\n",
        "all_scores= []\n",
        "\n",
        "for i in range(k) :\n",
        "  print('processing fold #', i)\n",
        "  val_data= train_data[i*num_val_samples :(i+1)* num_val_samples]\n",
        "  val_targets= train_targets[i*num_val_samples: (i+1)*num_val_samples]\n",
        "\n",
        "  partial_train_data= np.concatenate(\n",
        "      [train_data[: i*num_val_samples],\n",
        "       train_data[(i+1)*num_val_samples:]], \n",
        "       axis=0)\n",
        "  partial_train_targets= np.concatenate(\n",
        "      [train_data[: i*num_val_samples],\n",
        "       train_data[(i+1)*num_val_samples:]], \n",
        "       axis=0)\n",
        "  \n",
        "  model= build_model()\n",
        "  model.fit(partial_train_data, partial_train_targets, epochs= num_epochs, batch_size=1, verbose=0)\n",
        "  val_mse, val_mae= model.evaluate(val_data, val_targets, verbose= 0) #verbose=0 : do not show the processing bar\n",
        "  all_scores.append(val_mae)"
      ],
      "execution_count": 31,
      "outputs": [
        {
          "output_type": "stream",
          "text": [
            "processing fold # 0\n",
            "processing fold # 1\n",
            "processing fold # 2\n",
            "processing fold # 3\n"
          ],
          "name": "stdout"
        }
      ]
    },
    {
      "cell_type": "code",
      "metadata": {
        "colab": {
          "base_uri": "https://localhost:8080/"
        },
        "id": "oQM1ZDK_It7-",
        "outputId": "3d758995-fe13-4a77-a2de-9024e683a877"
      },
      "source": [
        "all_scores"
      ],
      "execution_count": 29,
      "outputs": [
        {
          "output_type": "execute_result",
          "data": {
            "text/plain": [
              "[21.83490562438965, 22.04509925842285, 21.376096725463867, 24.296886444091797]"
            ]
          },
          "metadata": {
            "tags": []
          },
          "execution_count": 29
        }
      ]
    },
    {
      "cell_type": "code",
      "metadata": {
        "colab": {
          "base_uri": "https://localhost:8080/"
        },
        "id": "SLY2YAFtIxLg",
        "outputId": "fad404ce-320b-4732-910f-a4e6e91eec6a"
      },
      "source": [
        "np.mean(all_scores)"
      ],
      "execution_count": 9,
      "outputs": [
        {
          "output_type": "execute_result",
          "data": {
            "text/plain": [
              "22.393342971801758"
            ]
          },
          "metadata": {
            "tags": []
          },
          "execution_count": 9
        }
      ]
    },
    {
      "cell_type": "markdown",
      "metadata": {
        "id": "W__w06gOI3Wu"
      },
      "source": [
        "When we want to find the best num_epochs, we need to save all history of mae"
      ]
    },
    {
      "cell_type": "code",
      "metadata": {
        "id": "O81QGFO_I_Gz"
      },
      "source": [
        "from tensorflow.keras import backend as K\n",
        "\n",
        "#some memory clean-up\n",
        "K.clear_session()"
      ],
      "execution_count": null,
      "outputs": []
    },
    {
      "cell_type": "code",
      "metadata": {
        "colab": {
          "base_uri": "https://localhost:8080/"
        },
        "id": "3Vk3aWcrJGxh",
        "outputId": "9c679b6b-4e6c-47ed-afb3-55e4568fd1ff"
      },
      "source": [
        "num_epochs= 500\n",
        "all_mae_histories= []\n",
        "\n",
        "for i in range(k) :\n",
        "  print('processing fold #', i)\n",
        "  val_data= train_data[i*num_val_samples :(i+1)* num_val_samples]\n",
        "  val_targets= train_targets[i*num_val_samples: (i+1)*num_val_samples]\n",
        "\n",
        "  partial_train_data= np.concatenate(\n",
        "      [train_data[: i*num_val_samples],\n",
        "       train_data[(i+1)*num_val_samples:]], axis=0)\n",
        "  partial_train_targets= np.concatenate(\n",
        "      [train_data[: i*num_val_samples],\n",
        "       train_data[(i+1)*num_val_samples:]], axis=0)\n",
        "  \n",
        "  model= build_model()\n",
        "  history= model.fit(partial_train_data, partial_train_targets, \n",
        "                     validation_data= (val_data, val_targets),\n",
        "                     epochs= num_epochs, batch_size=1, verbose=0)\n",
        "  mae_history= history.history['val_mae']\n",
        "  all_mae_histories.append(mae_history)"
      ],
      "execution_count": 13,
      "outputs": [
        {
          "output_type": "stream",
          "text": [
            "processing fold # 0\n",
            "processing fold # 1\n",
            "processing fold # 2\n",
            "processing fold # 3\n"
          ],
          "name": "stdout"
        }
      ]
    },
    {
      "cell_type": "code",
      "metadata": {
        "colab": {
          "base_uri": "https://localhost:8080/"
        },
        "id": "tERWymSMM56A",
        "outputId": "a270c86a-381d-4382-8409-2bd8106f1a77"
      },
      "source": [
        "history.history.keys()"
      ],
      "execution_count": 14,
      "outputs": [
        {
          "output_type": "execute_result",
          "data": {
            "text/plain": [
              "dict_keys(['loss', 'mae', 'val_loss', 'val_mae'])"
            ]
          },
          "metadata": {
            "tags": []
          },
          "execution_count": 14
        }
      ]
    },
    {
      "cell_type": "code",
      "metadata": {
        "id": "rcOh9rY-NDsP"
      },
      "source": [
        "average_mae_history= [\n",
        "    np.mean([x[i] for x in all_mae_histories]) for i in range(num_epochs)]"
      ],
      "execution_count": 22,
      "outputs": []
    },
    {
      "cell_type": "code",
      "metadata": {
        "colab": {
          "base_uri": "https://localhost:8080/",
          "height": 279
        },
        "id": "2xFbtZ9rNRNi",
        "outputId": "2b82f0ec-d738-4e1f-ed5e-0c368b2e2cb7"
      },
      "source": [
        "import matplotlib.pyplot as plt\n",
        "\n",
        "plt.plot(range(1, len(average_mae_history)+1), average_mae_history)\n",
        "plt.xlabel('Epochs')\n",
        "plt.ylabel('Validation MAE')\n",
        "plt.show()"
      ],
      "execution_count": 18,
      "outputs": [
        {
          "output_type": "display_data",
          "data": {
            "image/png": "[encoded data removed]",
            "text/plain": [
              "<Figure size 432x288 with 1 Axes>"
            ]
          },
          "metadata": {
            "tags": [],
            "needs_background": "light"
          }
        }
      ]
    }
  ]
}