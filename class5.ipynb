{
  "nbformat": 4,
  "nbformat_minor": 0,
  "metadata": {
    "colab": {
      "name": "class5.ipynb",
      "provenance": [],
      "collapsed_sections": [],
      "authorship_tag": "ABX9TyOQ+v4oy7MFob90oS5HIyDb",
      "include_colab_link": true
    },
    "kernelspec": {
      "name": "python3",
      "display_name": "Python 3"
    },
    "language_info": {
      "name": "python"
    }
  },
  "cells": [
    {
      "cell_type": "markdown",
      "metadata": {
        "id": "view-in-github",
        "colab_type": "text"
      },
      "source": [
        "<a href=\"https://colab.research.google.com/github/Soyoung-n/prac_class/blob/main/class5.ipynb\" target=\"_parent\"><img src=\"https://colab.research.google.com/assets/colab-badge.svg\" alt=\"Open In Colab\"/></a>"
      ]
    },
    {
      "cell_type": "markdown",
      "metadata": {
        "id": "tjrQ4b9l3RpW"
      },
      "source": [
        "Codes for data generation"
      ]
    },
    {
      "cell_type": "code",
      "metadata": {
        "id": "GdN_hdiF3M6-"
      },
      "source": [
        "with open('ids.txt', 'w') as f :\n",
        "    f.write('ID\\nJohn\\nKarl\\nAndy\\nTim\\n')"
      ],
      "execution_count": null,
      "outputs": []
    },
    {
      "cell_type": "code",
      "metadata": {
        "id": "5A0pJOuk3Ztr"
      },
      "source": [
        "with open('data1.txt', 'w') as f :\n",
        "    f.write('ID\\tfield1\\tfield2\\tfield3\\nTom\\t1\\t3\\t1\\nJohn\\t1\\t3\\t3\\nTom\\t1\\t1\\t1\\nKarl\\t1\\t1\\t2\\nKarl\\t1\\t3\\t2\\nKarl\\t2\\t2\\t2\\nAndy\\t1\\t2\\t3')"
      ],
      "execution_count": null,
      "outputs": []
    },
    {
      "cell_type": "code",
      "metadata": {
        "id": "6ppKx8ZG3dV5"
      },
      "source": [
        "with open('data2.txt', 'w') as f :\n",
        "    f.write('ID\\tfield1\\tfield2\\tfield3\\nTom\\t2\\t3\\t1\\nJane\\t1\\t1\\t3\\nJane\\t2\\t2\\t1\\nMax\\t3\\t1\\t2\\nKarl\\t1\\t4\\t2\\nMax\\t3\\t2\\t2\\nMax\\t2\\t2\\t1')"
      ],
      "execution_count": null,
      "outputs": []
    },
    {
      "cell_type": "markdown",
      "metadata": {
        "id": "akTbzXPM5aAD"
      },
      "source": [
        "How to read ids"
      ]
    },
    {
      "cell_type": "code",
      "metadata": {
        "id": "J_uWiRGU4kzQ"
      },
      "source": [
        "ids = []\n",
        "with open(\"ids.txt\", encoding='utf-8') as f:\n",
        "    for item in f:\n",
        "        ids.append(item.strip())"
      ],
      "execution_count": null,
      "outputs": []
    },
    {
      "cell_type": "markdown",
      "metadata": {
        "id": "a7OW9uAA5m_p"
      },
      "source": [
        "How to read data"
      ]
    },
    {
      "cell_type": "code",
      "metadata": {
        "colab": {
          "base_uri": "https://localhost:8080/"
        },
        "id": "wUjugE3S5oV4",
        "outputId": "beda50d5-68e3-4d84-b4b8-3e17a5b194dd"
      },
      "source": [
        "with open(\"data1.txt\", encoding='utf-8') as f:\n",
        "  for item in f :\n",
        "    nm, f1, f2, f3 = item.strip().split()\n",
        "    print(\"nm: {}, f1: {}, f2: {}, f3: {}\".format(nm, f1,f2,f3) )"
      ],
      "execution_count": null,
      "outputs": [
        {
          "output_type": "stream",
          "text": [
            "nm: ID, f1: field1, f2: field2, f3: field3\n",
            "nm: Tom, f1: 1, f2: 3, f3: 1\n",
            "nm: John, f1: 1, f2: 3, f3: 3\n",
            "nm: Tom, f1: 1, f2: 1, f3: 1\n",
            "nm: Karl, f1: 1, f2: 1, f3: 2\n",
            "nm: Karl, f1: 1, f2: 3, f3: 2\n",
            "nm: Karl, f1: 2, f2: 2, f3: 2\n",
            "nm: Andy, f1: 1, f2: 2, f3: 3\n"
          ],
          "name": "stdout"
        }
      ]
    },
    {
      "cell_type": "markdown",
      "metadata": {
        "id": "M0EH1ll76GN6"
      },
      "source": [
        "Generator from data file"
      ]
    },
    {
      "cell_type": "code",
      "metadata": {
        "id": "Bk6WqEb75uKc"
      },
      "source": [
        "import sys"
      ],
      "execution_count": 8,
      "outputs": []
    },
    {
      "cell_type": "code",
      "metadata": {
        "id": "dnr5CMcj8mLB"
      },
      "source": [
        "fnm= 'data2.txt'"
      ],
      "execution_count": 9,
      "outputs": []
    },
    {
      "cell_type": "code",
      "metadata": {
        "id": "IGFxQhHX8rvs"
      },
      "source": [
        "def fgenerator(fnm, iter_option=0) :\n",
        "  with open(fnm, 'r', encoding='utf-8') as f:\n",
        "    for idx, item in enumerate(f) :\n",
        "      ID, V1, V2, V3 = item.strip().split()\n",
        "      if iter_option== 0 :\n",
        "        yield ID\n",
        "      elif iter_option== 1 :\n",
        "        yield V1\n",
        "      elif iter_option== 2 :\n",
        "        yield V2\n",
        "      else :\n",
        "        yield V3"
      ],
      "execution_count": 10,
      "outputs": []
    },
    {
      "cell_type": "markdown",
      "metadata": {
        "id": "DDTC4237Gjqw"
      },
      "source": [
        "Write 'new_data.txt' file"
      ]
    },
    {
      "cell_type": "code",
      "metadata": {
        "id": "0ghY5hEr9xOU"
      },
      "source": [
        "with open('new_data.txt', 'w') as fw:\n",
        "  with open('data1.txt', encoding='utf-8') as f :\n",
        "    for item in f :\n",
        "      nm, f1, f2, f3 = item.strip().split()\n",
        "      if nm in ids :\n",
        "        fw.write(item)\n",
        "  fw.write('\\n')\n",
        "\n",
        "  with open('data2.txt', encoding= 'utf-8') as f:\n",
        "    for item in f:\n",
        "      nm, f1, f1, f3 = item.strip().split()\n",
        "      if nm in ids[1:] :\n",
        "        fw.write(item)"
      ],
      "execution_count": 13,
      "outputs": []
    },
    {
      "cell_type": "code",
      "metadata": {
        "colab": {
          "base_uri": "https://localhost:8080/"
        },
        "id": "FB4bvoBOHYnl",
        "outputId": "cfa527a7-5e10-4ee7-890f-90fce15e0f2f"
      },
      "source": [
        "with open('new_data.txt', encoding='utf-8') as f:\n",
        "  for item in f:\n",
        "    print(item)"
      ],
      "execution_count": 14,
      "outputs": [
        {
          "output_type": "stream",
          "text": [
            "ID\tfield1\tfield2\tfield3\n",
            "\n",
            "John\t1\t3\t3\n",
            "\n",
            "Karl\t1\t1\t2\n",
            "\n",
            "Karl\t1\t3\t2\n",
            "\n",
            "Karl\t2\t2\t2\n",
            "\n",
            "Andy\t1\t2\t3\n",
            "\n",
            "Karl\t1\t4\t2\n",
            "\n"
          ],
          "name": "stdout"
        }
      ]
    }
  ]
}